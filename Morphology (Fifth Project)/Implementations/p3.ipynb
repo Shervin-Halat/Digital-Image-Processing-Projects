{
 "cells": [
  {
   "cell_type": "code",
   "execution_count": 418,
   "metadata": {},
   "outputs": [],
   "source": [
    "import numpy as np\n",
    "from math import e\n",
    "from PIL import Image\n",
    "import glob\n",
    "import cv2\n",
    "from matplotlib import pyplot as plt\n",
    "import matplotlib\n",
    "from math import exp\n",
    "from math import sqrt\n",
    "from scipy.ndimage.interpolation import rotate\n",
    "from scipy.ndimage.interpolation import shift"
   ]
  },
  {
   "cell_type": "code",
   "execution_count": 2,
   "metadata": {},
   "outputs": [],
   "source": [
    "def cen_in_mask(image,mask_shape):\n",
    "    bg = Image.fromarray(np.zeros(mask_shape).astype(np.uint8))\n",
    "    image = Image.fromarray(image)\n",
    "    img_row, img_col = image.size\n",
    "    bg_row, bg_col = bg.size\n",
    "    bg.paste(image,((bg_row-img_row)//2,(bg_col-img_col)//2))\n",
    "    return np.array(bg)"
   ]
  },
  {
   "cell_type": "code",
   "execution_count": 3,
   "metadata": {},
   "outputs": [],
   "source": [
    "def circle_se(kernel_size,diameter):\n",
    "    se = np.zeros((kernel_size,kernel_size))\n",
    "    row,col = se.shape\n",
    "    for i in range(row):\n",
    "        for j in range(col):\n",
    "            if (i-row/2)**2 + (j-col/2)**2 < diameter**2:\n",
    "                se[i,j] = 1\n",
    "    return se"
   ]
  },
  {
   "cell_type": "code",
   "execution_count": 927,
   "metadata": {},
   "outputs": [],
   "source": [
    "# def dilation(image,se):\n",
    "#     extra = se.shape[0]\n",
    "#     new_shape = [sum(x) for x in zip(image.shape,(2*extra,2*extra))]\n",
    "#     plane = cen_in_mask(image,tuple(new_shape))\n",
    "#     row,col = plane.shape\n",
    "#     kernel_coors = list(range(-extra//2+1,extra//2+1))\n",
    "#     m,n = plane.shape\n",
    "#     new_image = np.zeros(plane.shape)\n",
    "#     for i in range(row):\n",
    "#         for j in range(col):\n",
    "#             if plane[i,j] == 255:\n",
    "#                 for k in kernel_coors:\n",
    "#                     for l in kernel_coors:\n",
    "#                         if 0 <= i + k < m and 0 <= j + l < n and se[extra//2+k,extra//2+l] == 1:\n",
    "#                             new_image[i+k,j+l] = 255\n",
    "#     cropped = new_image[extra+1:m-extra+1,extra+1:n-extra+1]\n",
    "#     return cropped.astype(np.int)\n",
    "\n",
    "# def erosion(image,se):\n",
    "#     extra = se.shape[0]\n",
    "#     new_shape = [sum(x) for x in zip(image.shape,(2*extra,2*extra))]\n",
    "#     plane = cen_in_mask(image,tuple(new_shape))\n",
    "#     row,col = plane.shape\n",
    "#     kernel_coors = list(range(-extra//2+1,extra//2+1))\n",
    "#     m,n = plane.shape\n",
    "#     new_image = np.zeros(plane.shape)\n",
    "#     for i in range(row):\n",
    "#         for j in range(col):\n",
    "# #                 if plane[i,j] == 255:\n",
    "#                     flag = 1\n",
    "#                     for k in kernel_coors:\n",
    "#                         for l in kernel_coors:\n",
    "#                             if 0 <= i + k < m and 0 <= j + l < n and se[extra//2+k,extra//2+l] == 1 and plane[i+k,j+l] != 255:\n",
    "#                                 flag *= 0\n",
    "#                             elif 0 <= i + k < m and 0 <= j + l < n and se[extra//2+k,extra//2+l] == 1 and plane[i+k,j+l] == 255:\n",
    "#                                 flag *= 1\n",
    "#                     if flag == 1:\n",
    "#                         new_image[i,j] = 255\n",
    "#     cropped = new_image[extra+1:m-extra+1,extra+1:n-extra+1]\n",
    "#     return cropped.astype(np.int)\n",
    "\n",
    "def dilation(image,se):\n",
    "    se = np.array(se).astype(np.int)\n",
    "    extra = se.shape[0]\n",
    "    kernel_coors = list(range(-extra//2+1,extra//2+1))\n",
    "    new_image = np.copy(image.astype(np.int))\n",
    "    for k in kernel_coors:\n",
    "        for l in kernel_coors:\n",
    "            if se[extra//2+k,extra//2+l] == 1:\n",
    "                new_image = np.bitwise_or(new_image,shift(image,(k,l),cval=0))\n",
    "    return new_image.astype(np.int)    \n",
    "\n",
    "def erosion(image,se):\n",
    "    se = np.array(se).astype(np.int)\n",
    "    extra = se.shape[0]\n",
    "    kernel_coors = list(range(-extra//2+1,extra//2+1))\n",
    "    new_image = np.copy(image.astype(np.int))\n",
    "    for k in kernel_coors:\n",
    "        for l in kernel_coors:\n",
    "            if se[extra//2+k,extra//2+l] == 1:\n",
    "                new_image = np.bitwise_and(new_image,shift(image,(-k,-l),cval=0))\n",
    "    return new_image.astype(np.int)    \n",
    "\n",
    "def opening(image,se):\n",
    "    result = erosion(image,se)\n",
    "    result = dilation(result,se)\n",
    "    return result\n",
    "\n",
    "def closing(image,se):\n",
    "    result = dilation(image,se)\n",
    "    result = erosion(result,se)\n",
    "    return result  \n",
    "\n",
    "def hit_miss(image,se):\n",
    "    result = np.bitwise_and(erosion(image,se),erosion(255-image,1-se))\n",
    "    return result\n",
    "\n",
    "def thick(image,ses,steps):\n",
    "    new_image = np.copy(image)\n",
    "    for st in range(steps):\n",
    "        for se in ses:\n",
    "            new_image = np.bitwise_or(new_image,hit_miss(new_image,se))\n",
    "    return new_image\n",
    "\n",
    "def thin(image,ses):\n",
    "    new_image = np.copy(image)\n",
    "    while True:\n",
    "        for se in ses:\n",
    "            temp = np.copy(new_image)\n",
    "            new_image = new_image - hit_miss(new_image,se)\n",
    "        if np.array_equal(temp,new_image):\n",
    "            break\n",
    "    return new_image"
   ]
  },
  {
   "cell_type": "code",
   "execution_count": 325,
   "metadata": {},
   "outputs": [],
   "source": [
    "basics = []\n",
    "bs1 = np.array([[0,0,0],[0.5,1,0.5],[1,1,1]])\n",
    "bs2 = np.array([[0.5,0,0],[1,1,0],[1,1,0.5]])\n",
    "for i in range(4):\n",
    "    basics.append(np.rot90(bs1,i))\n",
    "    basics.append(np.rot90(bs2,i))"
   ]
  },
  {
   "cell_type": "code",
   "execution_count": 5,
   "metadata": {},
   "outputs": [],
   "source": [
    "images = np.array([cv2.imread(file,0) for file in glob.glob(\"C:/Users/sherw/OneDrive/Desktop/DIP_HW5/inputs/p3/*.png\")])"
   ]
  },
  {
   "cell_type": "markdown",
   "metadata": {},
   "source": [
    "# a"
   ]
  },
  {
   "cell_type": "code",
   "execution_count": 850,
   "metadata": {},
   "outputs": [],
   "source": [
    "img1 = 255-images[1]\n",
    "img1 = np.where(img1 > 128, 255, 0)"
   ]
  },
  {
   "cell_type": "code",
   "execution_count": 852,
   "metadata": {},
   "outputs": [
    {
     "data": {
      "image/png": "[encoded data removed]",
      "text/plain": [
       "<Figure size 360x360 with 1 Axes>"
      ]
     },
     "metadata": {
      "needs_background": "light"
     },
     "output_type": "display_data"
    }
   ],
   "source": [
    "plt.hist(img1.ravel(),256,[0,256])\n",
    "plt.show()"
   ]
  },
  {
   "cell_type": "code",
   "execution_count": 853,
   "metadata": {
    "scrolled": true
   },
   "outputs": [
    {
     "data": {
      "image/png": "[encoded data removed]",
      "text/plain": [
       "<Figure size 360x360 with 1 Axes>"
      ]
     },
     "metadata": {
      "needs_background": "light"
     },
     "output_type": "display_data"
    }
   ],
   "source": [
    "plt.rcParams['figure.figsize'] = [5,5]\n",
    "a = circle_se(31,16)\n",
    "plt.imshow(a,'gray')\n",
    "plt.show()"
   ]
  },
  {
   "cell_type": "code",
   "execution_count": 854,
   "metadata": {},
   "outputs": [],
   "source": [
    "a3 = circle_se(31,16)\n",
    "di3 = closing(img1,a3)"
   ]
  },
  {
   "cell_type": "code",
   "execution_count": 856,
   "metadata": {},
   "outputs": [
    {
     "data": {
      "image/png": "[encoded data removed]",
      "text/plain": [
       "<Figure size 360x360 with 1 Axes>"
      ]
     },
     "metadata": {
      "needs_background": "light"
     },
     "output_type": "display_data"
    }
   ],
   "source": [
    "plt.rcParams['figure.figsize'] = [5,5]\n",
    "plt.imshow(255-di3,'gray')\n",
    "plt.show()"
   ]
  },
  {
   "cell_type": "code",
   "execution_count": 857,
   "metadata": {},
   "outputs": [
    {
     "data": {
      "image/png": "[encoded data removed]",
      "text/plain": [
       "<Figure size 720x720 with 2 Axes>"
      ]
     },
     "metadata": {
      "needs_background": "light"
     },
     "output_type": "display_data"
    }
   ],
   "source": [
    "plt.rcParams['figure.figsize'] = [10,10]\n",
    "plt.subplot(1,2,1)\n",
    "plt.imshow(images[1],'gray',vmin = 0, vmax = 255)\n",
    "plt.title('original')\n",
    "plt.axis('off')\n",
    "plt.subplot(1,2,2)\n",
    "plt.imshow(255-di3,'gray',vmin = 0, vmax = 255)\n",
    "plt.title('after closing')\n",
    "plt.axis('off')\n",
    "plt.show()"
   ]
  },
  {
   "cell_type": "markdown",
   "metadata": {},
   "source": [
    "# b"
   ]
  },
  {
   "cell_type": "code",
   "execution_count": 859,
   "metadata": {},
   "outputs": [],
   "source": [
    "img2 = 255-images[2]"
   ]
  },
  {
   "cell_type": "code",
   "execution_count": 191,
   "metadata": {},
   "outputs": [],
   "source": [
    "# se2 = np.rot90(np.diag(np.full(13,1)))+np.rot90(np.diag(np.ones(12),1))+np.rot90(np.diag(np.ones(12),-1))\n",
    "# se2_rot = rotate(se2, angle=19).round()"
   ]
  },
  {
   "cell_type": "code",
   "execution_count": 426,
   "metadata": {},
   "outputs": [],
   "source": [
    "se2 = np.rot90(np.diag(np.full(13,1)))\n",
    "se2_rot = rotate(se2, angle=19).round()"
   ]
  },
  {
   "cell_type": "code",
   "execution_count": 427,
   "metadata": {},
   "outputs": [
    {
     "data": {
      "image/png": "[encoded data removed]",
      "text/plain": [
       "<Figure size 720x720 with 1 Axes>"
      ]
     },
     "metadata": {
      "needs_background": "light"
     },
     "output_type": "display_data"
    }
   ],
   "source": [
    "plt.imshow(se2_rot,'gray')\n",
    "plt.show()"
   ]
  },
  {
   "cell_type": "code",
   "execution_count": 440,
   "metadata": {},
   "outputs": [],
   "source": [
    "di2 = opening(img2,se2_rot)"
   ]
  },
  {
   "cell_type": "code",
   "execution_count": 441,
   "metadata": {
    "scrolled": false
   },
   "outputs": [
    {
     "data": {
      "image/png": "[encoded data removed]",
      "text/plain": [
       "<Figure size 720x720 with 2 Axes>"
      ]
     },
     "metadata": {
      "needs_background": "light"
     },
     "output_type": "display_data"
    }
   ],
   "source": [
    "plt.rcParams['figure.figsize'] = [10,10]\n",
    "plt.subplot(1,2,1)\n",
    "plt.imshow(images[2],'gray',vmin = 0, vmax = 255)\n",
    "plt.title('original')\n",
    "plt.axis('off')\n",
    "plt.subplot(1,2,2)\n",
    "plt.imshow(255-di2,'gray',vmin = 0, vmax = 255)\n",
    "plt.title('after opening')\n",
    "plt.axis('off')\n",
    "plt.show()"
   ]
  },
  {
   "cell_type": "markdown",
   "metadata": {},
   "source": [
    "# c"
   ]
  },
  {
   "cell_type": "code",
   "execution_count": 930,
   "metadata": {},
   "outputs": [],
   "source": [
    "def erosion(image,se):\n",
    "    extra = se.shape[0]\n",
    "    new_shape = [sum(x) for x in zip(image.shape,(2*extra,2*extra))]\n",
    "    plane = cen_in_mask(image,tuple(new_shape))\n",
    "    row,col = plane.shape\n",
    "    kernel_coors = list(range(-extra//2+1,extra//2+1))\n",
    "    m,n = plane.shape\n",
    "    new_image = np.zeros(plane.shape)\n",
    "    for i in range(row):\n",
    "        for j in range(col):\n",
    "#                 if plane[i,j] == 255:\n",
    "                    flag = 1\n",
    "                    for k in kernel_coors:\n",
    "                        for l in kernel_coors:\n",
    "                            if 0 <= i + k < m and 0 <= j + l < n and se[extra//2+k,extra//2+l] == 1 and plane[i+k,j+l] != 255:\n",
    "                                flag *= 0\n",
    "                            elif 0 <= i + k < m and 0 <= j + l < n and se[extra//2+k,extra//2+l] == 1 and plane[i+k,j+l] == 255:\n",
    "                                flag *= 1\n",
    "                    if flag == 1:\n",
    "                        new_image[i,j] = 255\n",
    "    cropped = new_image[extra+1:m-extra+1,extra+1:n-extra+1]\n",
    "    return cropped.astype(np.int)"
   ]
  },
  {
   "cell_type": "code",
   "execution_count": 888,
   "metadata": {},
   "outputs": [],
   "source": [
    "img3 = 255- images[3]"
   ]
  },
  {
   "cell_type": "code",
   "execution_count": 918,
   "metadata": {},
   "outputs": [],
   "source": [
    "img3_th = thick(img3,basics,3)"
   ]
  },
  {
   "cell_type": "code",
   "execution_count": 939,
   "metadata": {},
   "outputs": [],
   "source": [
    "img3_d = dilation(img3,np.ones((5,5)))"
   ]
  },
  {
   "cell_type": "code",
   "execution_count": 941,
   "metadata": {},
   "outputs": [],
   "source": [
    "img3_thin = thin(img3_d,basics)"
   ]
  },
  {
   "cell_type": "code",
   "execution_count": 942,
   "metadata": {},
   "outputs": [
    {
     "data": {
      "image/png": "[encoded data removed]",
      "text/plain": [
       "<Figure size 720x720 with 2 Axes>"
      ]
     },
     "metadata": {
      "needs_background": "light"
     },
     "output_type": "display_data"
    }
   ],
   "source": [
    "plt.rcParams['figure.figsize'] = [10,10]\n",
    "plt.subplot(1,2,1)\n",
    "plt.imshow(255-img3_thin,'gray',vmin = 0, vmax = 255)\n",
    "plt.title('original')\n",
    "plt.axis('off')\n",
    "plt.subplot(1,2,2)\n",
    "plt.imshow(255-img3_d,'gray',vmin = 0, vmax = 255)\n",
    "plt.title('after opening')\n",
    "plt.axis('off')\n",
    "plt.show()"
   ]
  },
  {
   "cell_type": "markdown",
   "metadata": {},
   "source": [
    "# d"
   ]
  },
  {
   "cell_type": "code",
   "execution_count": 824,
   "metadata": {},
   "outputs": [],
   "source": [
    "def erosion(image,se):\n",
    "    extra = se.shape[0]\n",
    "    kernel_coors = list(range(-extra//2+1,extra//2+1))\n",
    "    new_image = np.copy(image)\n",
    "    for k in kernel_coors:\n",
    "        for l in kernel_coors:\n",
    "            if se[extra//2+k,extra//2+l] == 1:\n",
    "                new_image = np.bitwise_and(new_image,shift(image,(-k,-l),cval=0))\n",
    "    return new_image.astype(np.int)    "
   ]
  },
  {
   "cell_type": "code",
   "execution_count": 583,
   "metadata": {},
   "outputs": [],
   "source": [
    "img4 = 255-images[0]"
   ]
  },
  {
   "cell_type": "code",
   "execution_count": 822,
   "metadata": {},
   "outputs": [
    {
     "data": {
      "image/png": "[encoded data removed]",
      "text/plain": [
       "<Figure size 432x288 with 1 Axes>"
      ]
     },
     "metadata": {
      "needs_background": "light"
     },
     "output_type": "display_data"
    }
   ],
   "source": [
    "se = np.array([[0,1,0],[1,1,1],[0,1,0]])\n",
    "plt.imshow(se,'gray')\n",
    "plt.show()"
   ]
  },
  {
   "cell_type": "code",
   "execution_count": 814,
   "metadata": {},
   "outputs": [
    {
     "data": {
      "text/plain": [
       "<matplotlib.image.AxesImage at 0x1ce13744c08>"
      ]
     },
     "execution_count": 814,
     "metadata": {},
     "output_type": "execute_result"
    }
   ],
   "source": [
    "img4_di = dilation(img4,se)\n",
    "img4_cl = closing(img4_di,np.ones((3,3)))"
   ]
  },
  {
   "cell_type": "code",
   "execution_count": 823,
   "metadata": {},
   "outputs": [
    {
     "data": {
      "image/png": "[encoded data removed]",
      "text/plain": [
       "<Figure size 720x720 with 2 Axes>"
      ]
     },
     "metadata": {
      "needs_background": "light"
     },
     "output_type": "display_data"
    }
   ],
   "source": [
    "plt.rcParams['figure.figsize'] = [10,10]\n",
    "plt.subplot(1,2,1)\n",
    "plt.imshow(255-img4,'gray',vmin = 0, vmax = 255)\n",
    "plt.title('original')\n",
    "plt.axis('off')\n",
    "plt.subplot(1,2,2)\n",
    "plt.imshow(255-img4_cl,'gray',vmin = 0, vmax = 255)\n",
    "plt.title('after dilation and closing')\n",
    "plt.axis('off')\n",
    "plt.show()"
   ]
  }
 ],
 "metadata": {
  "kernelspec": {
   "display_name": "Python 3",
   "language": "python",
   "name": "python3"
  },
  "language_info": {
   "codemirror_mode": {
    "name": "ipython",
    "version": 3
   },
   "file_extension": ".py",
   "mimetype": "text/x-python",
   "name": "python",
   "nbconvert_exporter": "python",
   "pygments_lexer": "ipython3",
   "version": "3.7.4"
  }
 },
 "nbformat": 4,
 "nbformat_minor": 2
}
